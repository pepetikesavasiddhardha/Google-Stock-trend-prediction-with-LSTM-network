{
  "nbformat": 4,
  "nbformat_minor": 0,
  "metadata": {
    "colab": {
      "name": "rnn google stockprice.ipynb",
      "provenance": [],
      "collapsed_sections": []
    },
    "kernelspec": {
      "name": "python3",
      "display_name": "Python 3"
    },
    "accelerator": "TPU"
  },
  "cells": [
    {
      "cell_type": "code",
      "metadata": {
        "id": "TnamuxPl-AgE"
      },
      "source": [
        "import numpy as np\n",
        "import matplotlib.pyplot as plt\n",
        "import pandas as pd "
      ],
      "execution_count": null,
      "outputs": []
    },
    {
      "cell_type": "code",
      "metadata": {
        "id": "j1_qRbpl-MXl"
      },
      "source": [
        "# data preprocessing\n",
        "df=pd.read_csv('/content/Google_Stock_Price_Train.csv')\n",
        "\n",
        "training_data=df.iloc[ : , 1:2].values\n",
        "# now training data variable is array of numbers"
      ],
      "execution_count": null,
      "outputs": []
    },
    {
      "cell_type": "code",
      "metadata": {
        "colab": {
          "base_uri": "https://localhost:8080/",
          "height": 142
        },
        "id": "INpK5MG5eoJR",
        "outputId": "21e8114b-a8fd-47fd-f83d-51c97b3fbbb4"
      },
      "source": [
        "df.head(3)"
      ],
      "execution_count": null,
      "outputs": [
        {
          "output_type": "execute_result",
          "data": {
            "text/html": [
              "<div>\n",
              "<style scoped>\n",
              "    .dataframe tbody tr th:only-of-type {\n",
              "        vertical-align: middle;\n",
              "    }\n",
              "\n",
              "    .dataframe tbody tr th {\n",
              "        vertical-align: top;\n",
              "    }\n",
              "\n",
              "    .dataframe thead th {\n",
              "        text-align: right;\n",
              "    }\n",
              "</style>\n",
              "<table border=\"1\" class=\"dataframe\">\n",
              "  <thead>\n",
              "    <tr style=\"text-align: right;\">\n",
              "      <th></th>\n",
              "      <th>Date</th>\n",
              "      <th>Open</th>\n",
              "      <th>High</th>\n",
              "      <th>Low</th>\n",
              "      <th>Close</th>\n",
              "      <th>Volume</th>\n",
              "    </tr>\n",
              "  </thead>\n",
              "  <tbody>\n",
              "    <tr>\n",
              "      <th>0</th>\n",
              "      <td>1/3/2012</td>\n",
              "      <td>325.25</td>\n",
              "      <td>332.83</td>\n",
              "      <td>324.97</td>\n",
              "      <td>663.59</td>\n",
              "      <td>7,380,500</td>\n",
              "    </tr>\n",
              "    <tr>\n",
              "      <th>1</th>\n",
              "      <td>1/4/2012</td>\n",
              "      <td>331.27</td>\n",
              "      <td>333.87</td>\n",
              "      <td>329.08</td>\n",
              "      <td>666.45</td>\n",
              "      <td>5,749,400</td>\n",
              "    </tr>\n",
              "    <tr>\n",
              "      <th>2</th>\n",
              "      <td>1/5/2012</td>\n",
              "      <td>329.83</td>\n",
              "      <td>330.75</td>\n",
              "      <td>326.89</td>\n",
              "      <td>657.21</td>\n",
              "      <td>6,590,300</td>\n",
              "    </tr>\n",
              "  </tbody>\n",
              "</table>\n",
              "</div>"
            ],
            "text/plain": [
              "       Date    Open    High     Low   Close     Volume\n",
              "0  1/3/2012  325.25  332.83  324.97  663.59  7,380,500\n",
              "1  1/4/2012  331.27  333.87  329.08  666.45  5,749,400\n",
              "2  1/5/2012  329.83  330.75  326.89  657.21  6,590,300"
            ]
          },
          "metadata": {
            "tags": []
          },
          "execution_count": 3
        }
      ]
    },
    {
      "cell_type": "code",
      "metadata": {
        "id": "6vs4mUGe-Mal"
      },
      "source": [
        "from sklearn.preprocessing import MinMaxScaler\n",
        "mm=MinMaxScaler()\n",
        "scaled_training_data=mm.fit_transform(training_data)\n",
        "# normalization is best to use when output layer has sigmoid activation"
      ],
      "execution_count": null,
      "outputs": []
    },
    {
      "cell_type": "code",
      "metadata": {
        "id": "to8FyVDL-MdV"
      },
      "source": [
        "X_train=[]\n",
        "y_train=[]\n",
        "for i in range(60,1258):\n",
        "  X_train.append(scaled_training_data[i-60:i,0])\n",
        "  y_train.append(scaled_training_data[i,0])\n",
        "X_train,y_train=np.array(X_train),np.array(y_train)"
      ],
      "execution_count": null,
      "outputs": []
    },
    {
      "cell_type": "code",
      "metadata": {
        "colab": {
          "base_uri": "https://localhost:8080/"
        },
        "id": "IhwasVdchKIF",
        "outputId": "5f14a0f6-8c8b-4f9c-8820-6ded4e2122ce"
      },
      "source": [
        "X_train.shape"
      ],
      "execution_count": null,
      "outputs": [
        {
          "output_type": "execute_result",
          "data": {
            "text/plain": [
              "(1198, 60)"
            ]
          },
          "metadata": {
            "tags": []
          },
          "execution_count": 6
        }
      ]
    },
    {
      "cell_type": "code",
      "metadata": {
        "id": "l7bMf8k6kh_2"
      },
      "source": [
        "# reshaping took place as \n",
        "X_train=np.reshape(X_train,(1198,60,1))"
      ],
      "execution_count": null,
      "outputs": []
    },
    {
      "cell_type": "code",
      "metadata": {
        "id": "VkSr82-ikiLI"
      },
      "source": [
        "# start rnn\n",
        "# import req libraries\n",
        "from keras.models import Sequential\n",
        "from keras.layers import Dense\n",
        "from keras.layers import LSTM\n",
        "from keras.layers import Dropout"
      ],
      "execution_count": null,
      "outputs": []
    },
    {
      "cell_type": "code",
      "metadata": {
        "id": "DkFozrujlSeu"
      },
      "source": [
        "# initialize rnn\n",
        "rnn=Sequential()\n",
        "rnn.add(LSTM(units=50,return_sequences=True,input_shape=(60,1)))\n",
        "rnn.add(Dropout(rate=0.2))"
      ],
      "execution_count": null,
      "outputs": []
    },
    {
      "cell_type": "code",
      "metadata": {
        "id": "vODsoFDAlSmT"
      },
      "source": [
        "# adding 2 nd,3 rd,4th layer of LSTM network\n",
        "rnn.add(LSTM(units=50,return_sequences=True))\n",
        "rnn.add(Dropout(rate=0.2))\n",
        "rnn.add(LSTM(units=50,return_sequences=True))\n",
        "rnn.add(Dropout(rate=0.2))\n",
        "rnn.add(LSTM(units=50))\n",
        "rnn.add(Dropout(rate=0.2))"
      ],
      "execution_count": null,
      "outputs": []
    },
    {
      "cell_type": "code",
      "metadata": {
        "id": "iBR8SFAIlSt1"
      },
      "source": [
        "# add output layer\n",
        "rnn.add(Dense(units=1))"
      ],
      "execution_count": null,
      "outputs": []
    },
    {
      "cell_type": "code",
      "metadata": {
        "id": "8p6Pa13akiOO"
      },
      "source": [
        "#adding optimizer and loss func\n",
        "rnn.compile(optimizer='adam',loss='mean_squared_error')\n",
        "# generally rms prop is good optimizer for recurent neuralnetworks but we can also use adam\n",
        "#generally mean square error is loss func in regression prblms"
      ],
      "execution_count": null,
      "outputs": []
    },
    {
      "cell_type": "code",
      "metadata": {
        "id": "mS1SN27cxp13",
        "colab": {
          "base_uri": "https://localhost:8080/"
        },
        "outputId": "f5b2b848-ef25-480c-e8d3-693fad2c5eed"
      },
      "source": [
        "# now inputing train data \n",
        "rnn.fit(X_train,y_train,batch_size=32,epochs=5)\n",
        "# here i changed order shown in video epoch 1st batch_size later"
      ],
      "execution_count": null,
      "outputs": [
        {
          "output_type": "stream",
          "text": [
            "Epoch 1/5\n",
            "38/38 [==============================] - 10s 106ms/step - loss: 0.0964\n",
            "Epoch 2/5\n",
            "38/38 [==============================] - 4s 109ms/step - loss: 0.0068\n",
            "Epoch 3/5\n",
            "38/38 [==============================] - 4s 110ms/step - loss: 0.0058\n",
            "Epoch 4/5\n",
            "38/38 [==============================] - 4s 112ms/step - loss: 0.0052\n",
            "Epoch 5/5\n",
            "38/38 [==============================] - 4s 111ms/step - loss: 0.0052\n"
          ],
          "name": "stdout"
        },
        {
          "output_type": "execute_result",
          "data": {
            "text/plain": [
              "<tensorflow.python.keras.callbacks.History at 0x7f9e5f835978>"
            ]
          },
          "metadata": {
            "tags": []
          },
          "execution_count": 13
        }
      ]
    },
    {
      "cell_type": "code",
      "metadata": {
        "id": "9suh5n2Exp5k"
      },
      "source": [
        "# now getting real test data\n",
        "df2=pd.read_csv('/content/Google_Stock_Price_Test.csv')\n",
        "test_data=df2.iloc[ : ,1:2].values\n",
        "# the above step convert dataframe to numpy array"
      ],
      "execution_count": null,
      "outputs": []
    },
    {
      "cell_type": "code",
      "metadata": {
        "id": "cPdDZ_2Vxp-X"
      },
      "source": [
        "# now concat dataframes train and test\n",
        "df3=pd.concat((df['Open'],df2['Open']),axis=0)\n",
        "final_inputs=df3[len(df3)-len(df2)-60 : ].values\n",
        "inputs=final_inputs.reshape(-1,1)\n",
        "inputs=mm.transform(inputs)\n",
        "# no need fit becoz we already done it initially with train data\n",
        "# now we convert to 3D array format\n",
        "X_test=[]\n",
        "for i in range(60,80):\n",
        "  X_test.append(inputs[i-60:i,0])\n",
        "X_test=np.array(X_test)\n",
        "X_test=np.reshape(X_test,(X_test.shape[0],X_test.shape[1],1))\n",
        "# now we can predict stock price and we can rescale back predictions to normal way\n",
        "estimated_stockprice=rnn.predict(X_test)\n",
        "estimated_stockprice=mm.inverse_transform(estimated_stockprice)  "
      ],
      "execution_count": null,
      "outputs": []
    },
    {
      "cell_type": "code",
      "metadata": {
        "id": "Be1TWaFa5dNT",
        "colab": {
          "base_uri": "https://localhost:8080/",
          "height": 296
        },
        "outputId": "e37cec06-30b5-403c-ffda-f1c2dedb6bea"
      },
      "source": [
        "# now ploting both trnds and compare them\n",
        "plt.plot(test_data,color='green',label='real_stockvalue')\n",
        "plt.plot(estimated_stockprice,color='red',label='predicted_stockvalue')\n",
        "plt.title('google stock price estimation with rnn')\n",
        "plt.xlabel('financial_day')\n",
        "plt.ylabel('stock_value')\n",
        "plt.legend()\n",
        "plt.show()\n",
        "# the above function show will show the plot"
      ],
      "execution_count": null,
      "outputs": [
        {
          "output_type": "display_data",
          "data": {
            "image/png": "[encoded data removed]",
            "text/plain": [
              "<Figure size 432x288 with 1 Axes>"
            ]
          },
          "metadata": {
            "tags": [],
            "needs_background": "light"
          }
        }
      ]
    }
  ]
}